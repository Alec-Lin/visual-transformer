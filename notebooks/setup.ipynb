{
 "cells": [
  {
   "cell_type": "code",
   "execution_count": null,
   "metadata": {
    "colab": {
     "base_uri": "https://localhost:8080/"
    },
    "executionInfo": {
     "elapsed": 752118,
     "status": "ok",
     "timestamp": 1611275467573,
     "user": {
      "displayName": "NAZIR NAYAL",
      "photoUrl": "https://lh3.googleusercontent.com/a-/AOh14Gh3OuRg33h4ycTYmZ37Pu08eeoPEwOOBicBVUPJ-A=s64",
      "userId": "13047279340238858245"
     },
     "user_tz": -180
    },
    "id": "a0prAoLa4o2H",
    "outputId": "16035022-ee8b-4fad-dc3b-654314e5d98c"
   },
   "outputs": [
    {
     "name": "stdout",
     "output_type": "stream",
     "text": [
      "Mounted at /content/drive\n"
     ]
    }
   ],
   "source": [
    "# this mounts your Google Drive to the Colab VM.\n",
    "from google.colab import drive\n",
    "drive.mount('/content/drive', force_remount=True)\n",
    "\n",
    "# enter the foldername in your Drive where you have saved the unzipped\n",
    "# assignment folder, e.g. 'cs231n/assignments/assignment3/'\n",
    "FOLDERNAME = 'comp451/Project/visual-transformer'\n",
    "assert FOLDERNAME is not None, \"[!] Enter the foldername.\"\n",
    "\n",
    "# now that we've mounted your Drive, this ensures that\n",
    "# the Python interpreter of the Colab VM can load\n",
    "# python files from within it.\n",
    "import sys\n",
    "import os\n",
    "sys.path.append('/content/drive/MyDrive/{}'.format(FOLDERNAME))\n",
    "\n",
    "os.chdir('/content/drive/MyDrive/comp451/Project/visual-transformer')\n",
    "\n",
    "!git config --global user.email \"nnayal17@ku.edu.tr\"\n",
    "!git config --global user.name \"NazirNayal8\""
   ]
  },
  {
   "cell_type": "code",
   "execution_count": null,
   "metadata": {
    "id": "d-5L_QO04epv",
    "outputId": "c0d528b0-1b87-4d8e-b575-52095ce9a07d"
   },
   "outputs": [
    {
     "name": "stdout",
     "output_type": "stream",
     "text": [
      "Testing Notebook\n"
     ]
    }
   ],
   "source": [
    "print(\"Testing Notebook\")"
   ]
  },
  {
   "cell_type": "code",
   "execution_count": 8,
   "metadata": {
    "executionInfo": {
     "elapsed": 3190,
     "status": "ok",
     "timestamp": 1611276251649,
     "user": {
      "displayName": "NAZIR NAYAL",
      "photoUrl": "https://lh3.googleusercontent.com/a-/AOh14Gh3OuRg33h4ycTYmZ37Pu08eeoPEwOOBicBVUPJ-A=s64",
      "userId": "13047279340238858245"
     },
     "user_tz": -180
    },
    "id": "nKNec5R68ysW"
   },
   "outputs": [],
   "source": [
    "!git add -u"
   ]
  },
  {
   "cell_type": "code",
   "execution_count": null,
   "metadata": {
    "colab": {
     "base_uri": "https://localhost:8080/"
    },
    "executionInfo": {
     "elapsed": 12198,
     "status": "ok",
     "timestamp": 1611275791813,
     "user": {
      "displayName": "NAZIR NAYAL",
      "photoUrl": "https://lh3.googleusercontent.com/a-/AOh14Gh3OuRg33h4ycTYmZ37Pu08eeoPEwOOBicBVUPJ-A=s64",
      "userId": "13047279340238858245"
     },
     "user_tz": -180
    },
    "id": "nfUTm7GwFCUK",
    "outputId": "2a870f0f-68ff-4784-c792-f70870dee099"
   },
   "outputs": [
    {
     "name": "stdout",
     "output_type": "stream",
     "text": [
      "[model-enhancement a6ae781] semi-final version finished\n",
      " 9 files changed, 71 insertions(+), 29 deletions(-)\n",
      " rewrite experiments_colab.ipynb (95%)\n",
      " rewrite notebooks/setup.ipynb (92%)\n"
     ]
    }
   ],
   "source": [
    "!git commit -m \"organize visualizations\"\n"
   ]
  },
  {
   "cell_type": "code",
   "execution_count": null,
   "metadata": {
    "colab": {
     "base_uri": "https://localhost:8080/"
    },
    "executionInfo": {
     "elapsed": 15706,
     "status": "ok",
     "timestamp": 1611275816566,
     "user": {
      "displayName": "NAZIR NAYAL",
      "photoUrl": "https://lh3.googleusercontent.com/a-/AOh14Gh3OuRg33h4ycTYmZ37Pu08eeoPEwOOBicBVUPJ-A=s64",
      "userId": "13047279340238858245"
     },
     "user_tz": -180
    },
    "id": "ptmzfY28FCnQ",
    "outputId": "a57b1564-c6c6-4a8e-beb3-9d875b449604"
   },
   "outputs": [
    {
     "name": "stdout",
     "output_type": "stream",
     "text": [
      "Counting objects: 1   \r",
      "Counting objects: 13, done.\n",
      "Delta compression using up to 2 threads.\n",
      "Compressing objects: 100% (12/12), done.\n",
      "Writing objects: 100% (13/13), 5.41 MiB | 4.39 MiB/s, done.\n",
      "Total 13 (delta 9), reused 0 (delta 0)\n",
      "remote: Resolving deltas: 100% (9/9), completed with 9 local objects.\u001b[K\n",
      "To https://github.com/NazirNayal8/visual-transformer.git\n",
      "   5fed256..a6ae781  model-enhancement -> model-enhancement\n"
     ]
    }
   ],
   "source": [
    "!git push"
   ]
  },
  {
   "cell_type": "code",
   "execution_count": null,
   "metadata": {
    "colab": {
     "base_uri": "https://localhost:8080/"
    },
    "executionInfo": {
     "elapsed": 5058,
     "status": "ok",
     "timestamp": 1609678715217,
     "user": {
      "displayName": "NAZIR NAYAL",
      "photoUrl": "https://lh3.googleusercontent.com/a-/AOh14Gh3OuRg33h4ycTYmZ37Pu08eeoPEwOOBicBVUPJ-A=s64",
      "userId": "13047279340238858245"
     },
     "user_tz": -180
    },
    "id": "-uTu2mVlU7gL",
    "outputId": "14a15fc0-7f6d-4d38-d614-e08ef1a067da"
   },
   "outputs": [
    {
     "name": "stdout",
     "output_type": "stream",
     "text": [
      "Counting objects: 9, done.\n",
      "Delta compression using up to 2 threads.\n",
      "Compressing objects:  12% (1/8)   \r",
      "Compressing objects:  25% (2/8)   \r",
      "Compressing objects:  37% (3/8)   \r",
      "Compressing objects:  50% (4/8)   \r",
      "Compressing objects:  62% (5/8)   \r",
      "Compressing objects:  75% (6/8)   \r",
      "Compressing objects:  87% (7/8)   \r",
      "Compressing objects: 100% (8/8)   \r",
      "Compressing objects: 100% (8/8), done.\n",
      "Writing objects:  11% (1/9)   \r",
      "Writing objects:  22% (2/9)   \r",
      "Writing objects:  33% (3/9)   \r",
      "Writing objects:  44% (4/9)   \r",
      "Writing objects:  55% (5/9)   \r",
      "Writing objects:  66% (6/9)   \r",
      "Writing objects:  77% (7/9)   \r",
      "Writing objects:  88% (8/9)   \r",
      "Writing objects: 100% (9/9)   \r",
      "Writing objects: 100% (9/9), 52.49 KiB | 1.81 MiB/s, done.\n",
      "Total 9 (delta 7), reused 0 (delta 0)\n",
      "remote: Resolving deltas: 100% (7/7), completed with 7 local objects.\u001b[K\n",
      "remote: \n",
      "remote: Create a pull request for 'refine-attempt' on GitHub by visiting:\u001b[K\n",
      "remote:      https://github.com/NazirNayal8/visual-transformer/pull/new/refine-attempt\u001b[K\n",
      "remote: \n",
      "To https://github.com/NazirNayal8/visual-transformer.git\n",
      " * [new branch]      refine-attempt -> refine-attempt\n",
      "Branch 'refine-attempt' set up to track remote branch 'refine-attempt' from 'origin'.\n"
     ]
    }
   ],
   "source": [
    "!git push --set-upstream origin refine-attempt"
   ]
  },
  {
   "cell_type": "code",
   "execution_count": null,
   "metadata": {
    "colab": {
     "base_uri": "https://localhost:8080/"
    },
    "executionInfo": {
     "elapsed": 11828,
     "status": "ok",
     "timestamp": 1610800530467,
     "user": {
      "displayName": "NAZIR NAYAL",
      "photoUrl": "https://lh3.googleusercontent.com/a-/AOh14Gh3OuRg33h4ycTYmZ37Pu08eeoPEwOOBicBVUPJ-A=s64",
      "userId": "13047279340238858245"
     },
     "user_tz": -180
    },
    "id": "96XKkqOCvI0_",
    "outputId": "d34098b9-1ef4-46e2-e6ef-4c85be7ec727"
   },
   "outputs": [
    {
     "name": "stdout",
     "output_type": "stream",
     "text": [
      "remote: Enumerating objects: 20, done.\u001b[K\n",
      "remote: Counting objects:   5% (1/19)\u001b[K\r",
      "remote: Counting objects:  10% (2/19)\u001b[K\r",
      "remote: Counting objects:  15% (3/19)\u001b[K\r",
      "remote: Counting objects:  21% (4/19)\u001b[K\r",
      "remote: Counting objects:  26% (5/19)\u001b[K\r",
      "remote: Counting objects:  31% (6/19)\u001b[K\r",
      "remote: Counting objects:  36% (7/19)\u001b[K\r",
      "remote: Counting objects:  42% (8/19)\u001b[K\r",
      "remote: Counting objects:  47% (9/19)\u001b[K\r",
      "remote: Counting objects:  52% (10/19)\u001b[K\r",
      "remote: Counting objects:  57% (11/19)\u001b[K\r",
      "remote: Counting objects:  63% (12/19)\u001b[K\r",
      "remote: Counting objects:  68% (13/19)\u001b[K\r",
      "remote: Counting objects:  73% (14/19)\u001b[K\r",
      "remote: Counting objects:  78% (15/19)\u001b[K\r",
      "remote: Counting objects:  84% (16/19)\u001b[K\r",
      "remote: Counting objects:  89% (17/19)\u001b[K\r",
      "remote: Counting objects:  94% (18/19)\u001b[K\r",
      "remote: Counting objects: 100% (19/19)\u001b[K\r",
      "remote: Counting objects: 100% (19/19), done.\u001b[K\n",
      "remote: Compressing objects:  14% (1/7)\u001b[K\r",
      "remote: Compressing objects:  28% (2/7)\u001b[K\r",
      "remote: Compressing objects:  42% (3/7)\u001b[K\r",
      "remote: Compressing objects:  57% (4/7)\u001b[K\r",
      "remote: Compressing objects:  71% (5/7)\u001b[K\r",
      "remote: Compressing objects:  85% (6/7)\u001b[K\r",
      "remote: Compressing objects: 100% (7/7)\u001b[K\r",
      "remote: Compressing objects: 100% (7/7), done.\u001b[K\n",
      "remote: Total 12 (delta 7), reused 9 (delta 5), pack-reused 0\u001b[K\n",
      "Unpacking objects: 100% (12/12), done.\n",
      "From https://github.com/NazirNayal8/visual-transformer\n",
      "   a365c96..e0cf6fd  models-setup      -> origin/models-setup\n",
      "   65ca821..2ba0d79  main              -> origin/main\n",
      " * [new branch]      model-enhancement -> origin/model-enhancement\n",
      "Updating a365c96..e0cf6fd\n",
      "error: The following untracked working tree files would be overwritten by merge:\n",
      "\tvisualizations.ipynb\n",
      "Please move or remove them before you merge.\n",
      "Aborting\n"
     ]
    }
   ],
   "source": [
    "!git pull"
   ]
  },
  {
   "cell_type": "code",
   "execution_count": null,
   "metadata": {
    "colab": {
     "base_uri": "https://localhost:8080/"
    },
    "executionInfo": {
     "elapsed": 1039,
     "status": "ok",
     "timestamp": 1610800649143,
     "user": {
      "displayName": "NAZIR NAYAL",
      "photoUrl": "https://lh3.googleusercontent.com/a-/AOh14Gh3OuRg33h4ycTYmZ37Pu08eeoPEwOOBicBVUPJ-A=s64",
      "userId": "13047279340238858245"
     },
     "user_tz": -180
    },
    "id": "4qIsZ-xhwry1",
    "outputId": "3dc1c2e9-98db-4338-aa46-2ede3d777b2b"
   },
   "outputs": [
    {
     "name": "stdout",
     "output_type": "stream",
     "text": [
      "No local changes to save\n"
     ]
    }
   ],
   "source": [
    "!git stash"
   ]
  },
  {
   "cell_type": "code",
   "execution_count": null,
   "metadata": {
    "colab": {
     "base_uri": "https://localhost:8080/"
    },
    "executionInfo": {
     "elapsed": 1221,
     "status": "ok",
     "timestamp": 1609678763685,
     "user": {
      "displayName": "NAZIR NAYAL",
      "photoUrl": "https://lh3.googleusercontent.com/a-/AOh14Gh3OuRg33h4ycTYmZ37Pu08eeoPEwOOBicBVUPJ-A=s64",
      "userId": "13047279340238858245"
     },
     "user_tz": -180
    },
    "id": "bkqY2_aGwuM0",
    "outputId": "b26b662b-a32a-452e-ffc7-fdf960191b94"
   },
   "outputs": [
    {
     "name": "stdout",
     "output_type": "stream",
     "text": [
      "Switched to branch 'models-setup'\n",
      "Your branch is up to date with 'origin/models-setup'.\n"
     ]
    }
   ],
   "source": [
    "!git checkout models-setup"
   ]
  },
  {
   "cell_type": "code",
   "execution_count": null,
   "metadata": {
    "colab": {
     "base_uri": "https://localhost:8080/"
    },
    "executionInfo": {
     "elapsed": 1015,
     "status": "ok",
     "timestamp": 1610800901342,
     "user": {
      "displayName": "NAZIR NAYAL",
      "photoUrl": "https://lh3.googleusercontent.com/a-/AOh14Gh3OuRg33h4ycTYmZ37Pu08eeoPEwOOBicBVUPJ-A=s64",
      "userId": "13047279340238858245"
     },
     "user_tz": -180
    },
    "id": "azBDQiLMwvb6",
    "outputId": "de02928b-20a1-417c-cafc-aa22ab52e5e7"
   },
   "outputs": [
    {
     "name": "stdout",
     "output_type": "stream",
     "text": [
      "Branch 'model-enhancement' set up to track remote branch 'model-enhancement' from 'origin'.\n",
      "Switched to a new branch 'model-enhancement'\n"
     ]
    }
   ],
   "source": [
    "!git checkout model-enhancement"
   ]
  },
  {
   "cell_type": "code",
   "execution_count": null,
   "metadata": {
    "id": "whdGk6l0mPgj"
   },
   "outputs": [],
   "source": [
    "!git add visualizations.ipnyb"
   ]
  },
  {
   "cell_type": "code",
   "execution_count": 9,
   "metadata": {
    "colab": {
     "base_uri": "https://localhost:8080/"
    },
    "executionInfo": {
     "elapsed": 2260,
     "status": "ok",
     "timestamp": 1611276261388,
     "user": {
      "displayName": "NAZIR NAYAL",
      "photoUrl": "https://lh3.googleusercontent.com/a-/AOh14Gh3OuRg33h4ycTYmZ37Pu08eeoPEwOOBicBVUPJ-A=s64",
      "userId": "13047279340238858245"
     },
     "user_tz": -180
    },
    "id": "evnpf_X1EpY8",
    "outputId": "a868c8fe-ccd2-40e5-fc96-1c52a190b02f"
   },
   "outputs": [
    {
     "name": "stdout",
     "output_type": "stream",
     "text": [
      "On branch model-enhancement\n",
      "Your branch is up to date with 'origin/model-enhancement'.\n",
      "\n",
      "Changes to be committed:\n",
      "  (use \"git reset HEAD <file>...\" to unstage)\n",
      "\n",
      "\t\u001b[32mmodified:   notebooks/setup.ipynb\u001b[m\n",
      "\t\u001b[32mmodified:   visualizations.ipynb\u001b[m\n",
      "\n",
      "Untracked files:\n",
      "  (use \"git add <file>...\" to include in what will be committed)\n",
      "\n",
      "\t\u001b[31mcifar-10-batches-py/\u001b[m\n",
      "\t\u001b[31mdata/\u001b[m\n",
      "\t\u001b[31mlogs/\u001b[m\n",
      "\t\u001b[31mruns/\u001b[m\n",
      "\t\u001b[31msaved_models/\u001b[m\n",
      "\n"
     ]
    }
   ],
   "source": [
    "!git status"
   ]
  },
  {
   "cell_type": "code",
   "execution_count": null,
   "metadata": {
    "id": "Mn1jhuf-MdOO"
   },
   "outputs": [],
   "source": [
    "!git add visualizations.ipynb"
   ]
  },
  {
   "cell_type": "code",
   "execution_count": null,
   "metadata": {
    "colab": {
     "base_uri": "https://localhost:8080/"
    },
    "executionInfo": {
     "elapsed": 18480,
     "status": "ok",
     "timestamp": 1609675837112,
     "user": {
      "displayName": "NAZIR NAYAL",
      "photoUrl": "https://lh3.googleusercontent.com/a-/AOh14Gh3OuRg33h4ycTYmZ37Pu08eeoPEwOOBicBVUPJ-A=s64",
      "userId": "13047279340238858245"
     },
     "user_tz": -180
    },
    "id": "lrnF8EOLE65Z",
    "outputId": "7398e7fe-0e1d-4fce-ab62-dd1fc7e9e1f9"
   },
   "outputs": [
    {
     "name": "stdout",
     "output_type": "stream",
     "text": [
      "M\texperiments_colab.ipynb\n",
      "M\tnotebooks/setup.ipynb\n",
      "Switched to a new branch 'refine-attempt'\n"
     ]
    }
   ],
   "source": [
    "! git checkout -b refine-attempt"
   ]
  },
  {
   "cell_type": "code",
   "execution_count": null,
   "metadata": {
    "colab": {
     "base_uri": "https://localhost:8080/"
    },
    "executionInfo": {
     "elapsed": 1810,
     "status": "ok",
     "timestamp": 1609678656912,
     "user": {
      "displayName": "NAZIR NAYAL",
      "photoUrl": "https://lh3.googleusercontent.com/a-/AOh14Gh3OuRg33h4ycTYmZ37Pu08eeoPEwOOBicBVUPJ-A=s64",
      "userId": "13047279340238858245"
     },
     "user_tz": -180
    },
    "id": "9GAzEoxqUvfD",
    "outputId": "04d0c742-c5c0-446e-93cc-98f70de9b51c"
   },
   "outputs": [
    {
     "name": "stdout",
     "output_type": "stream",
     "text": [
      "  main\u001b[m\n",
      "  models-setup\u001b[m\n",
      "* \u001b[32mrefine-attempt\u001b[m\n"
     ]
    }
   ],
   "source": [
    "!git branch"
   ]
  }
 ],
 "metadata": {
  "colab": {
   "collapsed_sections": [],
   "name": "setup.ipynb",
   "provenance": []
  },
  "kernelspec": {
   "display_name": "nazir_env",
   "language": "python",
   "name": "nazir_env"
  },
  "language_info": {
   "codemirror_mode": {
    "name": "ipython",
    "version": 3
   },
   "file_extension": ".py",
   "mimetype": "text/x-python",
   "name": "python",
   "nbconvert_exporter": "python",
   "pygments_lexer": "ipython3",
   "version": "3.8.5"
  }
 },
 "nbformat": 4,
 "nbformat_minor": 1
}
