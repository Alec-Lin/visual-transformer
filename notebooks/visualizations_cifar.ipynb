{
 "cells": [
  {
   "cell_type": "markdown",
   "metadata": {
    "id": "3HbgmNYGdawT"
   },
   "source": [
    "# The following Block is uncommented for running on Google Colab"
   ]
  },
  {
   "cell_type": "code",
   "execution_count": 20,
   "metadata": {
    "executionInfo": {
     "elapsed": 809,
     "status": "ok",
     "timestamp": 1611276384133,
     "user": {
      "displayName": "NAZIR NAYAL",
      "photoUrl": "https://lh3.googleusercontent.com/a-/AOh14Gh3OuRg33h4ycTYmZ37Pu08eeoPEwOOBicBVUPJ-A=s64",
      "userId": "13047279340238858245"
     },
     "user_tz": -180
    },
    "id": "6cu4-jAo5bK9"
   },
   "outputs": [],
   "source": [
    "# from google.colab import drive\n",
    "# drive.mount('/content/drive', force_remount=True)\n",
    "\n",
    "# # enter the foldername in your Drive where you have saved the unzipped\n",
    "# # assignment folder, e.g. 'cs231n/assignments/assignment3/'\n",
    "# FOLDERNAME = 'comp451/Project/visual-transformer'\n",
    "# assert FOLDERNAME is not None, \"[!] Enter the foldername.\"\n",
    "\n",
    "# # now that we've mounted your Drive, this ensures that\n",
    "# # the Python interpreter of the Colab VM can load\n",
    "# # python files from within it.\n",
    "# import sys\n",
    "# import os\n",
    "# sys.path.append('/content/drive/MyDrive/{}'.format(FOLDERNAME))\n",
    "\n",
    "# ROOT_PATH = PATH = '/content/drive/MyDrive/comp451/Project/visual-transformer'\n",
    "\n",
    "# os.chdir(ROOT_PATH)\n"
   ]
  },
  {
   "cell_type": "code",
   "execution_count": 21,
   "metadata": {
    "colab": {
     "base_uri": "https://localhost:8080/"
    },
    "executionInfo": {
     "elapsed": 1229,
     "status": "ok",
     "timestamp": 1611276384559,
     "user": {
      "displayName": "NAZIR NAYAL",
      "photoUrl": "https://lh3.googleusercontent.com/a-/AOh14Gh3OuRg33h4ycTYmZ37Pu08eeoPEwOOBicBVUPJ-A=s64",
      "userId": "13047279340238858245"
     },
     "user_tz": -180
    },
    "id": "pdGE-MX3Z-e6",
    "outputId": "640be877-5273-45ff-9aac-a37805c6a5c8"
   },
   "outputs": [
    {
     "name": "stdout",
     "output_type": "stream",
     "text": [
      "The tensorboard extension is already loaded. To reload it, use:\n",
      "  %reload_ext tensorboard\n"
     ]
    }
   ],
   "source": [
    "%load_ext tensorboard"
   ]
  },
  {
   "cell_type": "code",
   "execution_count": 1,
   "metadata": {
    "executionInfo": {
     "elapsed": 1230,
     "status": "ok",
     "timestamp": 1611276384563,
     "user": {
      "displayName": "NAZIR NAYAL",
      "photoUrl": "https://lh3.googleusercontent.com/a-/AOh14Gh3OuRg33h4ycTYmZ37Pu08eeoPEwOOBicBVUPJ-A=s64",
      "userId": "13047279340238858245"
     },
     "user_tz": -180
    },
    "id": "w9_2GKON6Vd-"
   },
   "outputs": [],
   "source": [
    "import torch\n",
    "import torch.nn.functional as F\n",
    "import torchvision\n",
    "from torch.utils.tensorboard import SummaryWriter\n",
    "from torch.utils.data import DataLoader, Subset\n",
    "from torchvision import models\n",
    "from models.vt_resnet20 import VTResNet20\n",
    "from models.resnet import BasicBlock\n",
    "import matplotlib.pyplot as plt\n",
    "import random\n",
    "import pickle\n",
    "import PIL\n",
    "import numpy as np\n",
    "import tensorflow as tf\n",
    "import tensorboard as tb\n",
    "tf.io.gfile = tb.compat.tensorflow_stub.io.gfile\n",
    "\n",
    "from models.vt_resnet import vt_resnet18"
   ]
  },
  {
   "cell_type": "code",
   "execution_count": 5,
   "metadata": {},
   "outputs": [],
   "source": []
  },
  {
   "cell_type": "code",
   "execution_count": 23,
   "metadata": {
    "executionInfo": {
     "elapsed": 1611,
     "status": "ok",
     "timestamp": 1611276384948,
     "user": {
      "displayName": "NAZIR NAYAL",
      "photoUrl": "https://lh3.googleusercontent.com/a-/AOh14Gh3OuRg33h4ycTYmZ37Pu08eeoPEwOOBicBVUPJ-A=s64",
      "userId": "13047279340238858245"
     },
     "user_tz": -180
    },
    "id": "5OFPC82vlf_T"
   },
   "outputs": [],
   "source": [
    "# clean visualization directory\n",
    "\n",
    "!rm -rf ./vizlogs/"
   ]
  },
  {
   "cell_type": "code",
   "execution_count": 2,
   "metadata": {
    "executionInfo": {
     "elapsed": 1608,
     "status": "ok",
     "timestamp": 1611276384949,
     "user": {
      "displayName": "NAZIR NAYAL",
      "photoUrl": "https://lh3.googleusercontent.com/a-/AOh14Gh3OuRg33h4ycTYmZ37Pu08eeoPEwOOBicBVUPJ-A=s64",
      "userId": "13047279340238858245"
     },
     "user_tz": -180
    },
    "id": "X0fno9Rw7tAg"
   },
   "outputs": [],
   "source": [
    "def random_seed():\n",
    "    np.random.seed(8)\n",
    "    torch.manual_seed(8)\n",
    "    random.seed(8)"
   ]
  },
  {
   "cell_type": "code",
   "execution_count": 3,
   "metadata": {
    "executionInfo": {
     "elapsed": 1606,
     "status": "ok",
     "timestamp": 1611276384950,
     "user": {
      "displayName": "NAZIR NAYAL",
      "photoUrl": "https://lh3.googleusercontent.com/a-/AOh14Gh3OuRg33h4ycTYmZ37Pu08eeoPEwOOBicBVUPJ-A=s64",
      "userId": "13047279340238858245"
     },
     "user_tz": -180
    },
    "id": "-3lBAb7j9-Ek"
   },
   "outputs": [],
   "source": [
    "def store_params(content, name):\n",
    "    f = open(\"params/\" + name + \".pkl\",\"wb\")\n",
    "    pickle.dump(content, f)\n",
    "    f.close()\n",
    "\n",
    "def load_params(name):\n",
    "    fl = open(\"params/\" + name + \".pkl\", \"rb\")\n",
    "    loaded = pickle.load(fl)\n",
    "    return loaded"
   ]
  },
  {
   "cell_type": "code",
   "execution_count": 4,
   "metadata": {
    "executionInfo": {
     "elapsed": 1604,
     "status": "ok",
     "timestamp": 1611276384951,
     "user": {
      "displayName": "NAZIR NAYAL",
      "photoUrl": "https://lh3.googleusercontent.com/a-/AOh14Gh3OuRg33h4ycTYmZ37Pu08eeoPEwOOBicBVUPJ-A=s64",
      "userId": "13047279340238858245"
     },
     "user_tz": -180
    },
    "id": "tIvRIB4xCvcX"
   },
   "outputs": [],
   "source": [
    "def show_image(img, one_channel=False, fig=(10,10), title='No Title'):\n",
    "    if one_channel:\n",
    "        img = img.mean(dim=0)\n",
    "    img = img * 0.225 + 0.456     # unnormalize\n",
    "    npimg = img.numpy()\n",
    "    if one_channel:\n",
    "        \n",
    "        plt.figure(figsize = fig)\n",
    "        plt.title(title)\n",
    "        plt.imshow(npimg)\n",
    "    else:\n",
    "        plt.imshow(np.transpose(npimg, (1, 2, 0)))"
   ]
  },
  {
   "cell_type": "code",
   "execution_count": 27,
   "metadata": {
    "executionInfo": {
     "elapsed": 1600,
     "status": "ok",
     "timestamp": 1611276384951,
     "user": {
      "displayName": "NAZIR NAYAL",
      "photoUrl": "https://lh3.googleusercontent.com/a-/AOh14Gh3OuRg33h4ycTYmZ37Pu08eeoPEwOOBicBVUPJ-A=s64",
      "userId": "13047279340238858245"
     },
     "user_tz": -180
    },
    "id": "dbW-FN3c7q0C"
   },
   "outputs": [],
   "source": [
    "def get_data(name, valid_norm=True):\n",
    "\n",
    "    transform_train = torchvision.transforms.Compose(\n",
    "     [\n",
    "        torchvision.transforms.ToTensor(),\n",
    "        torchvision.transforms.Normalize((0.485, 0.456, 0.406), (0.229, 0.224, 0.225))\n",
    "    ])\n",
    "\n",
    "    transform_valid = torchvision.transforms.Compose([\n",
    "        torchvision.transforms.ToTensor(),\n",
    "        torchvision.transforms.Normalize((0.485, 0.456, 0.406), (0.229, 0.224, 0.225))\n",
    "    ])\n",
    "\n",
    "    if valid_norm == False:\n",
    "        transform_valid = torchvision.transforms.Compose([\n",
    "            torchvision.transforms.ToTensor()\n",
    "        ])\n",
    "\n",
    "    if name == 'CIFAR10':\n",
    "        data_train = torchvision.datasets.CIFAR10('/data', train=True, download=True, transform=transform_train)\n",
    "        data_valid = torchvision.datasets.CIFAR10('/data', train=False, download=True, transform=transform_valid)\n",
    "\n",
    "        return data_train, data_valid\n",
    "    \n",
    "    if name == 'MNIST':\n",
    "        data_train = torchvision.datasets.MNIST('/data', train=True, download=True, transform=transform_train)\n",
    "        data_valid = torchvision.datasets.MNIST('/data', train=False, download=True, transform=transform_valid)\n",
    "\n",
    "        return data_train, data_valid\n",
    "\n",
    "    if name == 'ImageNet':\n",
    "        data_train = torchvision.datasets.ImageNet('/content/drive/MyDrive/comp451/Project/visual-transformer/data', split='train', transform=transform_train)\n",
    "        data_valid = torchvision.datasets.ImageNet('/content/drive/MyDrive/comp451/Project/visual-transformer/data', split='val', transform=transform_valid)\n",
    "\n",
    "        return data_train, data_valid"
   ]
  },
  {
   "cell_type": "code",
   "execution_count": 28,
   "metadata": {
    "colab": {
     "base_uri": "https://localhost:8080/"
    },
    "executionInfo": {
     "elapsed": 3441,
     "status": "ok",
     "timestamp": 1611276386812,
     "user": {
      "displayName": "NAZIR NAYAL",
      "photoUrl": "https://lh3.googleusercontent.com/a-/AOh14Gh3OuRg33h4ycTYmZ37Pu08eeoPEwOOBicBVUPJ-A=s64",
      "userId": "13047279340238858245"
     },
     "user_tz": -180
    },
    "id": "qvGyYDs8_2Am",
    "outputId": "4bd2cf2d-d5ee-443c-f480-f015c878fe4d"
   },
   "outputs": [
    {
     "name": "stdout",
     "output_type": "stream",
     "text": [
      "Files already downloaded and verified\n",
      "Files already downloaded and verified\n"
     ]
    }
   ],
   "source": [
    "data_train, data_valid = get_data('CIFAR10')"
   ]
  },
  {
   "cell_type": "code",
   "execution_count": 29,
   "metadata": {
    "executionInfo": {
     "elapsed": 3441,
     "status": "ok",
     "timestamp": 1611276386815,
     "user": {
      "displayName": "NAZIR NAYAL",
      "photoUrl": "https://lh3.googleusercontent.com/a-/AOh14Gh3OuRg33h4ycTYmZ37Pu08eeoPEwOOBicBVUPJ-A=s64",
      "userId": "13047279340238858245"
     },
     "user_tz": -180
    },
    "id": "hSDVdZkzn58V"
   },
   "outputs": [],
   "source": [
    "classes = {\n",
    "    0: 'airplane',\t\t\t\t\t\t\t\t\t\t\n",
    "    1: 'automobile',\t\t\t\t\t\t\t\t\t\n",
    "    2: 'bird'\t,\t\t\t\t\t\t\t\t\t\n",
    "    3: 'cat'\t,\t\t\t\t\t\t\t\t\t\n",
    "    4: 'deer'\t,\t\t\t\t\t\t\t\t\t\n",
    "    5: 'dog'\t,\t\t\t\t\t\t\t\t\t\n",
    "    6: 'frog'\t,\t\t\t\t\t\t\t\t\t\n",
    "    7: 'horse',\t\t\t\t\t\t\t\t\t\t\n",
    "    8: 'ship'\t,\t\t\t\t\t\t\t\t\t\n",
    "    9: 'truck',\n",
    "}"
   ]
  },
  {
   "cell_type": "code",
   "execution_count": 30,
   "metadata": {
    "executionInfo": {
     "elapsed": 3437,
     "status": "ok",
     "timestamp": 1611276386817,
     "user": {
      "displayName": "NAZIR NAYAL",
      "photoUrl": "https://lh3.googleusercontent.com/a-/AOh14Gh3OuRg33h4ycTYmZ37Pu08eeoPEwOOBicBVUPJ-A=s64",
      "userId": "13047279340238858245"
     },
     "user_tz": -180
    },
    "id": "o7H9_xZtZotB"
   },
   "outputs": [],
   "source": [
    "train_loader = DataLoader(data_train, batch_size=1, shuffle=True)\n",
    "valid_loader = DataLoader(data_valid, batch_size=1, shuffle=False)"
   ]
  },
  {
   "cell_type": "code",
   "execution_count": 31,
   "metadata": {
    "colab": {
     "base_uri": "https://localhost:8080/"
    },
    "executionInfo": {
     "elapsed": 5097,
     "status": "ok",
     "timestamp": 1611276388489,
     "user": {
      "displayName": "NAZIR NAYAL",
      "photoUrl": "https://lh3.googleusercontent.com/a-/AOh14Gh3OuRg33h4ycTYmZ37Pu08eeoPEwOOBicBVUPJ-A=s64",
      "userId": "13047279340238858245"
     },
     "user_tz": -180
    },
    "id": "g9K4DITXYhmb",
    "outputId": "e97e4e42-ab61-4843-9e88-0f4c7b02095b"
   },
   "outputs": [
    {
     "name": "stdout",
     "output_type": "stream",
     "text": [
      "Files already downloaded and verified\n",
      "Files already downloaded and verified\n"
     ]
    }
   ],
   "source": [
    "_, orig_valid_data = get_data('CIFAR10', valid_norm=False)\n",
    "orig_loader = DataLoader(data_valid, batch_size=1, shuffle=False)"
   ]
  },
  {
   "cell_type": "markdown",
   "metadata": {
    "id": "Ofi6FvrHdzJZ"
   },
   "source": [
    "# This cell is used to load the model from which visualization are to be extracted\n",
    "\n",
    "For loading the model with k tokens assign k to the variable `chosen_model`. The available token choices currently are [4, 6, 8]"
   ]
  },
  {
   "cell_type": "code",
   "execution_count": 8,
   "metadata": {
    "colab": {
     "base_uri": "https://localhost:8080/"
    },
    "executionInfo": {
     "elapsed": 703,
     "status": "ok",
     "timestamp": 1611276390833,
     "user": {
      "displayName": "NAZIR NAYAL",
      "photoUrl": "https://lh3.googleusercontent.com/a-/AOh14Gh3OuRg33h4ycTYmZ37Pu08eeoPEwOOBicBVUPJ-A=s64",
      "userId": "13047279340238858245"
     },
     "user_tz": -180
    },
    "id": "B2FS9jkFCDVm",
    "outputId": "17e976d1-d29e-447d-9d5d-9f83b45215c6"
   },
   "outputs": [
    {
     "name": "stdout",
     "output_type": "stream",
     "text": [
      "{'valid_acc': tensor(86.), 'train_acc': tensor(96.7160), 'lr': 0.002, 'L': 16, 'N': 128, 'D': 1024, 'optim': <class 'torch.optim.adam.Adam'>, 'enc_layer': 2, 'fc_dim': 1024, 'vt_channels': 512, 'dropout': 0.5, 'n_head': 1, 'vt_num_layer': 2}\n"
     ]
    }
   ],
   "source": [
    "\n",
    "chosen_model = 4\n",
    "\n",
    "\n",
    "##################################################\n",
    "L = 8\n",
    "D = 512\n",
    "layer_plane = [64, 128, 256, 512]\n",
    "enc_layer = 2\n",
    "n_heads = 8\n",
    "vt_channels = 128\n",
    "fc_dim = 512\n",
    "dropout = 0.5\n",
    "vt_num_layers = 1\n",
    "input_dim = 32\n",
    "\n",
    "translate = {\n",
    "    4:8,\n",
    "    6:12,\n",
    "    8:11,\n",
    "}\n",
    "\n",
    "params = load_params('param_c_10_lr_002')\n",
    "\n",
    "\n",
    "model = vt_resnet18(\n",
    "    tokens=params['L'],\n",
    "    token_channels=params['D'],\n",
    "    input_dim=input_dim,\n",
    "    vt_channels=params['vt_channels'],\n",
    "    transformer_enc_layers=params['enc_layer'],\n",
    "    transformer_heads=params['n_head'],\n",
    "    transformer_fc_dim=params['fc_dim'],\n",
    "    transformer_dropout=params['dropout'],\n",
    "    image_channels=3,\n",
    "    num_classes=10,\n",
    ")\n",
    " \n",
    "model.load_state_dict(torch.load('trained_models/model_c_10_lr_002.pth', map_location=torch.device('cpu')))\n",
    "model.eval()\n",
    "print(params)"
   ]
  },
  {
   "cell_type": "code",
   "execution_count": 34,
   "metadata": {
    "executionInfo": {
     "elapsed": 8104,
     "status": "ok",
     "timestamp": 1611276399946,
     "user": {
      "displayName": "NAZIR NAYAL",
      "photoUrl": "https://lh3.googleusercontent.com/a-/AOh14Gh3OuRg33h4ycTYmZ37Pu08eeoPEwOOBicBVUPJ-A=s64",
      "userId": "13047279340238858245"
     },
     "user_tz": -180
    },
    "id": "_gUyrmYCZUoV"
   },
   "outputs": [],
   "source": [
    "by_class = {\n",
    "    0:[],\n",
    "    1:[],\n",
    "    2:[],\n",
    "    3:[],\n",
    "    4:[],\n",
    "    5:[],\n",
    "    6:[],\n",
    "    7:[],\n",
    "    8:[],\n",
    "    9:[],\n",
    "}\n",
    "\n",
    "img_orig = {\n",
    "    0:[],\n",
    "    1:[],\n",
    "    2:[],\n",
    "    3:[],\n",
    "    4:[],\n",
    "    5:[],\n",
    "    6:[],\n",
    "    7:[],\n",
    "    8:[],\n",
    "    9:[],\n",
    "}\n",
    "\n",
    "for i in valid_loader:\n",
    "    im, l = i\n",
    "    by_class[l.item()].append(im)\n",
    "for i in orig_loader:\n",
    "    im, l = i\n",
    "    img_orig[l.item()].append(im)"
   ]
  },
  {
   "cell_type": "markdown",
   "metadata": {
    "id": "5MHBrG9selkM"
   },
   "source": [
    "# Choosing an image for visualization\n",
    "\n",
    "In order to choose images to visualize, you need assign numbers to the variables `k` and `i`. `k` represents which class you want the images from, so it takes values from 0 to 9 inclusive. `i` represents the index of the image to be chosen from class `k`. The images in each class are ordered according the loaded order from torchvision, and it is consistent accross different runs of this notebook. Note that with setting only test set images can be visualized."
   ]
  },
  {
   "cell_type": "code",
   "execution_count": 35,
   "metadata": {
    "colab": {
     "base_uri": "https://localhost:8080/",
     "height": 283
    },
    "executionInfo": {
     "elapsed": 6298,
     "status": "ok",
     "timestamp": 1611276399948,
     "user": {
      "displayName": "NAZIR NAYAL",
      "photoUrl": "https://lh3.googleusercontent.com/a-/AOh14Gh3OuRg33h4ycTYmZ37Pu08eeoPEwOOBicBVUPJ-A=s64",
      "userId": "13047279340238858245"
     },
     "user_tz": -180
    },
    "id": "NuCzLEbYnY1Y",
    "outputId": "678a43d6-456a-4ecc-d3a0-52dce75043f0"
   },
   "outputs": [
    {
     "name": "stdout",
     "output_type": "stream",
     "text": [
      "horse\n"
     ]
    },
    {
     "data": {
      "image/png": "[encoded data removed]",
      "text/plain": [
       "<Figure size 432x288 with 1 Axes>"
      ]
     },
     "metadata": {
      "needs_background": "light",
      "tags": []
     },
     "output_type": "display_data"
    }
   ],
   "source": [
    "k = 7\n",
    "i = 6\n",
    "\n",
    "##################################################\n",
    "res = model(by_class[k][i])\n",
    "show_image(torchvision.utils.make_grid(by_class[k][i]))\n",
    "print(classes[k])"
   ]
  },
  {
   "cell_type": "markdown",
   "metadata": {
    "id": "d2Ig9RLajjgC"
   },
   "source": [
    "# After running the previous cell, run this cell below to produce the visualizations."
   ]
  },
  {
   "cell_type": "code",
   "execution_count": 36,
   "metadata": {
    "colab": {
     "base_uri": "https://localhost:8080/",
     "height": 1000
    },
    "executionInfo": {
     "elapsed": 4602,
     "status": "ok",
     "timestamp": 1611276404574,
     "user": {
      "displayName": "NAZIR NAYAL",
      "photoUrl": "https://lh3.googleusercontent.com/a-/AOh14Gh3OuRg33h4ycTYmZ37Pu08eeoPEwOOBicBVUPJ-A=s64",
      "userId": "13047279340238858245"
     },
     "user_tz": -180
    },
    "id": "U8QVV3RKxFbn",
    "outputId": "2e0d7dd8-8c95-4481-8633-83d1fc6620e5"
   },
   "outputs": [
    {
     "name": "stdout",
     "output_type": "stream",
     "text": [
      "horse\n"
     ]
    },
    {
     "name": "stderr",
     "output_type": "stream",
     "text": [
      "/usr/local/lib/python3.6/dist-packages/torch/nn/functional.py:3063: UserWarning: Default upsampling behavior when mode=bilinear is changed to align_corners=False since 0.4.0. Please specify align_corners=True if the old behavior is desired. See the documentation of nn.Upsample for details.\n",
      "  \"See the documentation of nn.Upsample for details.\".format(mode))\n"
     ]
    },
    {
     "data": {
      "image/png": "[encoded data removed]",
      "text/plain": [
       "<Figure size 720x720 with 1 Axes>"
      ]
     },
     "metadata": {
      "needs_background": "light",
      "tags": []
     },
     "output_type": "display_data"
    },
    {
     "data": {
      "image/png": "[encoded data removed]",
      "text/plain": [
       "<Figure size 720x720 with 1 Axes>"
      ]
     },
     "metadata": {
      "needs_background": "light",
      "tags": []
     },
     "output_type": "display_data"
    },
    {
     "data": {
      "image/png": "[encoded data removed]",
      "text/plain": [
       "<Figure size 720x720 with 1 Axes>"
      ]
     },
     "metadata": {
      "needs_background": "light",
      "tags": []
     },
     "output_type": "display_data"
    },
    {
     "data": {
      "image/png": "[encoded data removed]",
      "text/plain": [
       "<Figure size 720x720 with 1 Axes>"
      ]
     },
     "metadata": {
      "needs_background": "light",
      "tags": []
     },
     "output_type": "display_data"
    },
    {
     "data": {
      "image/png": "[encoded data removed]",
      "text/plain": [
       "<Figure size 720x720 with 1 Axes>"
      ]
     },
     "metadata": {
      "needs_background": "light",
      "tags": []
     },
     "output_type": "display_data"
    },
    {
     "data": {
      "image/png": "[encoded data removed]",
      "text/plain": [
       "<Figure size 720x720 with 1 Axes>"
      ]
     },
     "metadata": {
      "needs_background": "light",
      "tags": []
     },
     "output_type": "display_data"
    }
   ],
   "source": [
    "output = F.log_softmax(res, dim=1)\n",
    "_, pred = torch.max(output, dim=1)\n",
    "print(classes[pred.item()])\n",
    "\n",
    "for i in range(params['vt_num_layer']):\n",
    "    cache = model.vt_layers[i].tokenizer.cache2\n",
    "    cache = torch.transpose(cache, 1, 2)\n",
    "    with torch.no_grad():\n",
    "        pic = cache[0].reshape(params['L'], 1, 16, 16)\n",
    "        pic = F.interpolate(pic, scale_factor=2, mode='bilinear')\n",
    "        show_image(torchvision.utils.make_grid(pic, nrow=4), True, fig=(10,10), title='Tokenizer Layer ' + str(i + 1))\n",
    "\n",
    "pr_cache1 = model.vt_layers[0].projector.cache\n",
    "pr_cache2 = model.vt_layers[1].projector.cache\n",
    "pr_cache3 = model.vt_layers[2].projector.cache\n",
    "pr_cache1 = torch.transpose(pr_cache1, 1, 2)\n",
    "pr_cache1 = torch.transpose(pr_cache1, 0, 1)\n",
    "pr_cache2 = torch.transpose(pr_cache2, 1, 2)\n",
    "pr_cache2 = torch.transpose(pr_cache2, 0, 1)\n",
    "pr_cache3 = torch.transpose(pr_cache3, 1, 2)\n",
    "pr_cache3 = torch.transpose(pr_cache3, 0, 1)\n",
    "\n",
    "with torch.no_grad():\n",
    "    pic = pr_cache1.reshape(params['L'], 1, 16, 16)\n",
    "    pic = F.interpolate(pic, scale_factor=2, mode='bilinear')\n",
    "    show_image(torchvision.utils.make_grid(pic, nrow=4), True, fig=(10,10), title='Projector Layer 1')\n",
    "\n",
    "with torch.no_grad():\n",
    "    pic = pr_cache2.reshape(params['L'], 1, 16, 16)\n",
    "    pic = F.interpolate(pic, scale_factor=2, mode='bilinear')\n",
    "    show_image(torchvision.utils.make_grid(pic, nrow=4), True, fig=(10,10), title='Projector Layer 2')\n",
    "\n",
    "with torch.no_grad():\n",
    "    pic = pr_cache3.reshape(params['L'], 1, 16, 16)\n",
    "    pic = F.interpolate(pic, scale_factor=2, mode='bilinear')\n",
    "    show_image(torchvision.utils.make_grid(pic, nrow=4), True, fig=(10,10), title='Projector Layer 3')"
   ]
  },
  {
   "cell_type": "code",
   "execution_count": null,
   "metadata": {
    "id": "9X5bghk2Fahd"
   },
   "outputs": [],
   "source": [
    "%tensorboard --logdir vizlogs"
   ]
  }
 ],
 "metadata": {
  "colab": {
   "authorship_tag": "ABX9TyMIDNMu//r0KvX9VWqaa1K9",
   "collapsed_sections": [],
   "name": "visualizations.ipynb",
   "provenance": []
  },
  "kernelspec": {
   "display_name": "Python 3",
   "language": "python",
   "name": "python3"
  },
  "language_info": {
   "codemirror_mode": {
    "name": "ipython",
    "version": 3
   },
   "file_extension": ".py",
   "mimetype": "text/x-python",
   "name": "python",
   "nbconvert_exporter": "python",
   "pygments_lexer": "ipython3",
   "version": "3.8.5"
  }
 },
 "nbformat": 4,
 "nbformat_minor": 4
}
