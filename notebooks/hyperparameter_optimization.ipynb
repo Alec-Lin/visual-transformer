{
 "cells": [
  {
   "cell_type": "code",
   "execution_count": 1,
   "metadata": {},
   "outputs": [],
   "source": [
    "import os\n",
    "os.chdir(\"../\")"
   ]
  },
  {
   "cell_type": "code",
   "execution_count": 40,
   "metadata": {},
   "outputs": [],
   "source": [
    "import wandb\n",
    "import torch\n",
    "import random\n",
    "import numpy as np\n",
    "import torch.nn.functional as F\n",
    "import torch.nn as nn\n",
    "from torchvision import transforms\n",
    "from torch import optim\n",
    "from tqdm import tqdm\n",
    "from models.vt_resnet import vt_resnet18\n",
    "from typing import Any"
   ]
  },
  {
   "cell_type": "code",
   "execution_count": 19,
   "metadata": {},
   "outputs": [],
   "source": [
    "%load_ext autoreload\n",
    "%autoreload 2"
   ]
  },
  {
   "cell_type": "markdown",
   "metadata": {},
   "source": [
    "# Utility Functions"
   ]
  },
  {
   "cell_type": "code",
   "execution_count": 27,
   "metadata": {},
   "outputs": [],
   "source": [
    "def random_seed(seed):\n",
    "    \"\"\"Set seed\"\"\"\n",
    "    random.seed(seed)\n",
    "    np.random.seed(seed)\n",
    "    torch.manual_seed(seed)\n",
    "    if torch.cuda.is_available():\n",
    "        torch.cuda.manual_seed(seed)\n",
    "        torch.cuda.manual_seed_all(seed)\n",
    "        torch.backends.cudnn.deterministic = True\n",
    "        torch.backends.cudnn.benchmark = False\n",
    "    os.environ[\"PYTHONHASHSEED\"] = str(seed)\n",
    "\n",
    "def store_params(content, name):\n",
    "    f = open(f'params/{name}.pkl','wb')\n",
    "    pickle.dump(content, f)\n",
    "    f.close()\n",
    "\n",
    "def load_params(name):\n",
    "    fl = open(f'params/{name}.pkl', \"rb\")\n",
    "    loaded = pickle.load(fl)\n",
    "    return loaded\n",
    "\n",
    "def store_model(model, name):\n",
    "    torch.save(model.state_dict(), f'./trained_models/{name}.pth')\n",
    "                                "
   ]
  },
  {
   "cell_type": "markdown",
   "metadata": {},
   "source": [
    "# Data Preparation"
   ]
  },
  {
   "cell_type": "code",
   "execution_count": null,
   "metadata": {},
   "outputs": [],
   "source": [
    "project_name = 'vt_resnet18'\n",
    "\n",
    "random_seed(8)\n",
    "input_dim = 224\n",
    "num_classes = 20\n",
    "class_list = random.sample(range(1000), num_classes)"
   ]
  },
  {
   "cell_type": "code",
   "execution_count": null,
   "metadata": {},
   "outputs": [],
   "source": [
    "normalize = transforms.Normalize(mean=[0.485, 0.456, 0.406], std=[0.229, 0.224, 0.225])\n",
    "train_transform = torchvision.transforms.Compose([\n",
    "    torchvision.transforms.ToTensor(),\n",
    "    torchvision.transforms.Resize((input_dim, input_dim))\n",
    "    transforms.RandomResizedCrop(224),\n",
    "    transforms.RandomHorizontalFlip(),\n",
    "    normalize\n",
    "])\n",
    "\n",
    "valid_transform = torchvision.transforms.Compose([\n",
    "    torchvision.transforms.ToTensor(),\n",
    "    torchvision.transforms.Resize((input_dim, input_dim)),\n",
    "    normalize\n",
    "])\n",
    "\n",
    "train_dataset = ImageNetDataset(train=True, num_classes=num_classes, transform=train_transform, class_list=class_list)\n",
    "valid_dataset = ImageNetDataset(train=False, num_classes=num_classes, transform=valid_transform, class_list=class_list)"
   ]
  },
  {
   "cell_type": "code",
   "execution_count": null,
   "metadata": {},
   "outputs": [],
   "source": [
    "len(train_dataset), len(valid_dataset)"
   ]
  },
  {
   "cell_type": "code",
   "execution_count": null,
   "metadata": {},
   "outputs": [],
   "source": [
    "total_valid_num = len(valid_dataset)\n",
    "total_train_num = len(train_dataset)\n",
    "valid_num = int(0.4 * total_valid_num)\n",
    "\n",
    "valid_mask = list(range(valid_num))\n",
    "test_mask = list(range(valid_num, total_valid_num))\n",
    "\n",
    "valid_loader = DataLoader(Subset(valid_dataset, valid_mask), batch_size=batch_size, shuffle=True)\n",
    "test_loader = DataLoader(Subset(valid_dataset, test_mask), batch_size=batch_size, shuffle=True)\n",
    "\n",
    "small_train_mask = random.sample(range(total_train_num), 1200)\n",
    "medium_train_mask = random.sample(range(total_train_num), 5000)\n",
    "small_valid_mask = random.sample(range(total_valid_num), 200)\n",
    "\n",
    "small_train_loader = DataLoader(Subset(train_dataset, list(small_train_mask)), batch_size=batch_size, \n",
    "                                shuffle=True, num_workers=2)\n",
    "small_valid_loader = DataLoader(Subset(valid_dataset, list(small_valid_mask)), batch_size=batch_size, \n",
    "                                shuffle=True, num_workers=2)\n",
    "\n",
    "medium_loader = DataLoader(Subset(train_dataset, list(medium_train_mask)), batch_size=batch_size, shuffle=True)"
   ]
  },
  {
   "cell_type": "code",
   "execution_count": null,
   "metadata": {},
   "outputs": [],
   "source": [
    "device = torch.device(\"cuda:0\" if torch.cuda.is_available() else \"cpu\")\n",
    "print(device)"
   ]
  },
  {
   "cell_type": "markdown",
   "metadata": {},
   "source": [
    "# Sweep Configuration"
   ]
  },
  {
   "cell_type": "code",
   "execution_count": null,
   "metadata": {},
   "outputs": [],
   "source": [
    "sweep_config = {\n",
    "    'method': 'grid', #grid, random\n",
    "    'metric': {\n",
    "      'name': 'valid_accuracy',\n",
    "      'goal': 'maximize'   \n",
    "    },\n",
    "    'parameters': {\n",
    "        'batch_size': {\n",
    "            'values': [256, 128]\n",
    "        },\n",
    "        'learning_rate': {\n",
    "            'values': [1e-2, 1e-3, 1e-4]\n",
    "        },\n",
    "        'transformer_enc_layers':{\n",
    "            'values': [128, 256, 512]\n",
    "        },\n",
    "        'transformer_n_heads':{\n",
    "          'values': [1, 2, 4]\n",
    "        },\n",
    "        'transformer_fc_dims':{\n",
    "            'values': [512, 1024]\n",
    "        },\n",
    "        'tokens': {\n",
    "            'values': [4, 8, 16]\n",
    "        },\n",
    "        'token_dims': {\n",
    "            'values': [256, 512, 1024]\n",
    "        }\n",
    "        'optimizer': {\n",
    "            'values': ['adam', 'sgd']\n",
    "        },\n",
    "        'weight_decay': {\n",
    "            'values': [0, 4e-3, 4e-4, 4e-5]\n",
    "        }\n",
    "    }\n",
    "}"
   ]
  },
  {
   "cell_type": "markdown",
   "metadata": {},
   "source": [
    "# Initialize Sweep "
   ]
  },
  {
   "cell_type": "code",
   "execution_count": null,
   "metadata": {},
   "outputs": [],
   "source": [
    "sweep_id = wandb.sweep(sweep_config, project=project_name)"
   ]
  },
  {
   "cell_type": "markdown",
   "metadata": {},
   "source": [
    "# Training"
   ]
  },
  {
   "cell_type": "code",
   "execution_count": 41,
   "metadata": {},
   "outputs": [],
   "source": [
    "def evaluate(model: nn.Module, data_loader: Any, device: torch.device, comment: str = \"\"):\n",
    "    \n",
    "    model.eval()\n",
    "    \n",
    "    total_samples = len(data_loader.dataset)\n",
    "    correct_samples = 0\n",
    "    total_loss = 0\n",
    "    loss_history = []\n",
    "\n",
    "    with torch.no_grad():\n",
    "        for data, target in tqdm(data_loader):\n",
    "            data = data.to(device)\n",
    "            target = target.to(device)\n",
    "            \n",
    "            output = F.log_softmax(model(data), dim=1)\n",
    "            loss = F.nll_loss(output, target, reduction='sum')\n",
    "            _, pred = torch.max(output, dim=1)\n",
    "\n",
    "            total_loss += loss.item()\n",
    "            correct_samples += pred.eq(target).sum()\n",
    "    \n",
    "    avg_loss = total_loss / total_samples\n",
    "    wandb.log({'valid_loss': avg_loss})\n",
    "    \n",
    "    accuracy = 100.0 * correct_samples / total_samples\n",
    "    return accuracy"
   ]
  },
  {
   "cell_type": "code",
   "execution_count": null,
   "metadata": {},
   "outputs": [],
   "source": [
    "def train():\n",
    "    \n",
    "    config_defaults = {\n",
    "        'epochs': 10,\n",
    "        'batch_size': 128,\n",
    "        'learning_rate': 0.001,\n",
    "        'transformer_enc_layers': 2,\n",
    "        'transformer_n_heads': 1,\n",
    "        'transformer_fc_dims': 512,\n",
    "        'transformer_dropout': 0.5,\n",
    "        'tokens': 8,\n",
    "        'token_dims': 512,\n",
    "        'optimizer': 'adam',\n",
    "        'weight_decay': 0,\n",
    "        'input_dim': input_dim,\n",
    "        'num_classes': num_classes,\n",
    "    }\n",
    "    \n",
    "    wandb.init(config=config_defaults)\n",
    "    config = wandb.config\n",
    "    \n",
    "    model = vt_resnet18(\n",
    "        pretrained=True,\n",
    "        tokens=L,\n",
    "        token_channels=D,\n",
    "        input_dim=input_dim,\n",
    "        vt_channels=vt_channels,\n",
    "        transformer_enc_layers=enc_layer,\n",
    "        transformer_heads=n_head,\n",
    "        transformer_fc_dim=fc_dim,\n",
    "        transformer_dropout=dropout,\n",
    "        num_classes=num_classes,\n",
    "    )\n",
    "    \n",
    "    train_loader = DataLoader(train_dataset, batch_size=config.batch_size, shuffle=True)\n",
    "    \n",
    "    if config.optimizer == 'adam':\n",
    "        optimizer = optim.Adam(model.parameters(), lr=config.learning_rate, weight_decay=config.weight_decay)\n",
    "    else:\n",
    "        optimizer = optim.SGD(model.parameters(), lr=config.learning_rate, weight_decay=config.weight_decay, momentum=0.9)\n",
    "    \n",
    "    for i in range(config.epochs):\n",
    "        \n",
    "        model.train()\n",
    "        model.to(device)\n",
    "        \n",
    "        total_loss = 0\n",
    "        for i, (data, label) in enumerate(train_loader):\n",
    "            \n",
    "            data, label = data.to(device), label.to(device)\n",
    "            optimizer.zero_grad()\n",
    "            output = F.log_softmax(model(data), dim=1)\n",
    "            loss = F.nll_loss(output, label)\n",
    "            loss.backward()\n",
    "            \n",
    "            total_loss += loss.item()\n",
    "            optimizer.step()\n",
    "            \n",
    "            wandb.log({'batch_loss': loss.item()})\n",
    "        \n",
    "        valid_accuracy = evaluate(model, valid_loader, device)\n",
    "        train_accuracy = evaluate(model, train_loader, device)\n",
    "        \n",
    "        wandb.log({\n",
    "            'loss': total_loss / config.batch_size,\n",
    "            'valid_accuracy': valid_accuracy,\n",
    "            'train_accuracy': train_accuracy\n",
    "        })\n",
    "        "
   ]
  },
  {
   "cell_type": "markdown",
   "metadata": {},
   "source": [
    "# Run Sweep"
   ]
  },
  {
   "cell_type": "code",
   "execution_count": null,
   "metadata": {},
   "outputs": [],
   "source": [
    "wandb.agent(sweep_id, train)"
   ]
  }
 ],
 "metadata": {
  "kernelspec": {
   "display_name": "Python 3",
   "language": "python",
   "name": "python3"
  },
  "language_info": {
   "codemirror_mode": {
    "name": "ipython",
    "version": 3
   },
   "file_extension": ".py",
   "mimetype": "text/x-python",
   "name": "python",
   "nbconvert_exporter": "python",
   "pygments_lexer": "ipython3",
   "version": "3.8.5"
  }
 },
 "nbformat": 4,
 "nbformat_minor": 4
}
