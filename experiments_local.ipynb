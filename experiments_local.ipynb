{
 "cells": [
  {
   "cell_type": "code",
   "execution_count": 1,
   "metadata": {},
   "outputs": [],
   "source": [
    "%load_ext autoreload\n",
    "%autoreload 2"
   ]
  },
  {
   "cell_type": "code",
   "execution_count": 1,
   "metadata": {},
   "outputs": [],
   "source": [
    "import torch\n",
    "from models.vt_resnet import VTResNet\n",
    "from models.resnet import BasicBlock"
   ]
  },
  {
   "cell_type": "code",
   "execution_count": 2,
   "metadata": {},
   "outputs": [],
   "source": [
    "N = 5\n",
    "L = 8\n",
    "C = 7\n",
    "H = 32\n",
    "W = 32\n",
    "D = 10\n",
    "\n",
    "x = torch.randn((N, 3,H, W))\n",
    "# print(x)"
   ]
  },
  {
   "cell_type": "code",
   "execution_count": 3,
   "metadata": {},
   "outputs": [],
   "source": [
    "vtresnet = VTResNet(\n",
    "    resnet_block=BasicBlock,\n",
    "    layers=[2,2,2,2],\n",
    "    tokens=L,\n",
    "    token_channels=D,\n",
    "    input_dim=H,\n",
    "    layer_planes=[16, 32, 64, 128],\n",
    "    num_classes=3\n",
    ")"
   ]
  },
  {
   "cell_type": "code",
   "execution_count": 4,
   "metadata": {},
   "outputs": [
    {
     "name": "stdout",
     "output_type": "stream",
     "text": [
      "torch.Size([5, 4, 128])\n",
      "5 128 2 2\n",
      "torch.Size([5, 3])\n"
     ]
    }
   ],
   "source": [
    "out = vtresnet(x)\n",
    "print(out.shape)\n",
    "#torch.Size([5, 4, 128])\n",
    "#5 128 2 2"
   ]
  },
  {
   "cell_type": "code",
   "execution_count": 2,
   "metadata": {},
   "outputs": [],
   "source": [
    "from models.custom_layers import TransposeLayer"
   ]
  },
  {
   "cell_type": "code",
   "execution_count": 4,
   "metadata": {},
   "outputs": [
    {
     "name": "stdout",
     "output_type": "stream",
     "text": [
      "tensor([[-0.0717, -0.8969, -0.4684, -0.3801],\n",
      "        [ 0.7058,  0.3099,  1.3684, -0.0711],\n",
      "        [ 0.1943,  0.0639, -0.2536, -0.1629]])\n"
     ]
    }
   ],
   "source": [
    "x = torch.randn((3,4))\n",
    "print(x)"
   ]
  },
  {
   "cell_type": "code",
   "execution_count": 5,
   "metadata": {},
   "outputs": [],
   "source": [
    "d = TransposeLayer()"
   ]
  },
  {
   "cell_type": "code",
   "execution_count": 8,
   "metadata": {},
   "outputs": [
    {
     "name": "stdout",
     "output_type": "stream",
     "text": [
      "tensor([[-0.0717,  0.7058,  0.1943],\n",
      "        [-0.8969,  0.3099,  0.0639],\n",
      "        [-0.4684,  1.3684, -0.2536],\n",
      "        [-0.3801, -0.0711, -0.1629]])\n"
     ]
    }
   ],
   "source": [
    "out = d(x, 0, 1)\n",
    "print(out)"
   ]
  }
 ],
 "metadata": {
  "kernelspec": {
   "display_name": "Python 3",
   "language": "python",
   "name": "python3"
  },
  "language_info": {
   "codemirror_mode": {
    "name": "ipython",
    "version": 3
   },
   "file_extension": ".py",
   "mimetype": "text/x-python",
   "name": "python",
   "nbconvert_exporter": "python",
   "pygments_lexer": "ipython3",
   "version": "3.8.5"
  }
 },
 "nbformat": 4,
 "nbformat_minor": 4
}
