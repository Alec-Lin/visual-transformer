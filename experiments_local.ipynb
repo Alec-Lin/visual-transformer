{
 "cells": [
  {
   "cell_type": "code",
   "execution_count": 2,
   "metadata": {},
   "outputs": [],
   "source": [
    "%load_ext autoreload\n",
    "%autoreload 2"
   ]
  },
  {
   "cell_type": "code",
   "execution_count": 5,
   "metadata": {},
   "outputs": [],
   "source": [
    "import torch\n",
    "import pickle\n",
    "import numpy as np\n",
    "import torch.nn as nn\n",
    "import torch.nn.functional as F\n",
    "from models.vt_resnet18 import VTResNet18\n",
    "from models.resnet import BasicBlock"
   ]
  },
  {
   "cell_type": "markdown",
   "metadata": {},
   "source": [
    "# Utility Functions"
   ]
  },
  {
   "cell_type": "code",
   "execution_count": 1,
   "metadata": {},
   "outputs": [],
   "source": [
    "def store_params(content, name):\n",
    "    f = open(\"logs/\" + name + \".pkl\",\"wb\")\n",
    "    pickle.dump(content, f)\n",
    "    f.close()\n",
    "\n",
    "def load_params(name):\n",
    "    fl = open(\"logs/\" + name + \".pkl\", \"rb\")\n",
    "    loaded = pickle.load(fl)\n",
    "    return loaded\n"
   ]
  },
  {
   "cell_type": "markdown",
   "metadata": {},
   "source": [
    "# VTResNet18 Testing"
   ]
  },
  {
   "cell_type": "code",
   "execution_count": 5,
   "metadata": {},
   "outputs": [],
   "source": [
    "vtresnet = VTResNet18(\n",
    "    resnet_block=BasicBlock,\n",
    "    layers=[2,2,2,2],\n",
    "    tokens=8,\n",
    "    token_channels=32,\n",
    "    input_dim=224,\n",
    "    layer_channels=[64,128,256,512],\n",
    "    transformer_enc_layers=2,\n",
    "    transformer_heads=8,\n",
    "    transformer_fc_dim=512,\n",
    "    transformer_dropout=0.5,\n",
    "    image_channels=3,\n",
    "    num_classes=10,\n",
    ")"
   ]
  },
  {
   "cell_type": "code",
   "execution_count": 9,
   "metadata": {},
   "outputs": [],
   "source": [
    "sample = torch.randn((5, 3, 224, 224))\n",
    "out = vtresnet(sample)"
   ]
  },
  {
   "cell_type": "markdown",
   "metadata": {},
   "source": [
    "# Generic VTResNet Testing"
   ]
  },
  {
   "cell_type": "code",
   "execution_count": 9,
   "metadata": {},
   "outputs": [],
   "source": [
    "from models.vt_resnet import vt_resnet18, vt_resnet34, vt_resnet50, vt_resnet101, vt_resnet152"
   ]
  },
  {
   "cell_type": "code",
   "execution_count": 18,
   "metadata": {},
   "outputs": [],
   "source": [
    "vtresnet50 = vt_resnet34(\n",
    "    pretrained=True,\n",
    "    tokens=8,\n",
    "    token_channels=128,\n",
    "    input_dim=224,\n",
    "    vt_channels=512,\n",
    "    transformer_enc_layers=2,\n",
    "    transformer_heads=8,\n",
    "    transformer_fc_dim=1024,\n",
    "    transformer_dropout=0.5,\n",
    "    num_classes=1000\n",
    ")"
   ]
  },
  {
   "cell_type": "code",
   "execution_count": 19,
   "metadata": {},
   "outputs": [],
   "source": [
    "sample = torch.randn((5, 3, 224, 224))\n",
    "out = vtresnet18(sample)"
   ]
  },
  {
   "cell_type": "code",
   "execution_count": 20,
   "metadata": {},
   "outputs": [
    {
     "data": {
      "text/plain": [
       "tensor([[ 0.1798, -0.2408, -0.0400,  ...,  0.2868,  0.2067, -0.3226],\n",
       "        [ 0.2736, -0.1909, -0.0872,  ...,  0.3391,  0.2201, -0.3597],\n",
       "        [ 0.2636, -0.2044, -0.1188,  ...,  0.3713,  0.2429, -0.3777],\n",
       "        [ 0.1872, -0.1596, -0.0199,  ...,  0.3553,  0.1657, -0.4015],\n",
       "        [ 0.1831, -0.2409, -0.0906,  ...,  0.3151,  0.2458, -0.4465]],\n",
       "       grad_fn=<AddmmBackward>)"
      ]
     },
     "execution_count": 20,
     "metadata": {},
     "output_type": "execute_result"
    }
   ],
   "source": [
    "out"
   ]
  },
  {
   "cell_type": "markdown",
   "metadata": {},
   "source": [
    "# Examining Trained Model"
   ]
  },
  {
   "cell_type": "code",
   "execution_count": null,
   "metadata": {},
   "outputs": [],
   "source": []
  }
 ],
 "metadata": {
  "kernelspec": {
   "display_name": "Python 3",
   "language": "python",
   "name": "python3"
  },
  "language_info": {
   "codemirror_mode": {
    "name": "ipython",
    "version": 3
   },
   "file_extension": ".py",
   "mimetype": "text/x-python",
   "name": "python",
   "nbconvert_exporter": "python",
   "pygments_lexer": "ipython3",
   "version": "3.8.5"
  }
 },
 "nbformat": 4,
 "nbformat_minor": 4
}
